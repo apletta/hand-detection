{
 "cells": [
  {
   "cell_type": "code",
   "execution_count": 5,
   "metadata": {},
   "outputs": [],
   "source": [
    "import numpy as np"
   ]
  },
  {
   "cell_type": "code",
   "execution_count": 2,
   "metadata": {},
   "outputs": [],
   "source": [
    "# parse json file to features - phillip\n",
    "\n"
   ]
  },
  {
   "cell_type": "code",
   "execution_count": 10,
   "metadata": {},
   "outputs": [
    {
     "name": "stdout",
     "output_type": "stream",
     "text": [
      "(18, 5)\n",
      "(18, 1)\n"
     ]
    }
   ],
   "source": [
    "# dummy data\n",
    "# layout: [thumb, pointer, middle, ring, pinky]\n",
    "X = np.array([[1, 1, 1, 1, 1],\n",
    "              [1, 1, 1, 1, 1],\n",
    "              [1, 1, 1, 1, 1],\n",
    "              [2, 1, 1, 1, 1],\n",
    "              [1, 2, 1, 1, 1],\n",
    "              [1, 1, 1, 1, 2],\n",
    "              [1, 2, 2, 1, 1],\n",
    "              [2, 1, 1, 1, 2],\n",
    "              [1, 2, 1, 1, 2],\n",
    "              [1, 2, 2, 2, 1],\n",
    "              [2, 2, 1, 1, 2],\n",
    "              [1, 2, 1, 2, 2],\n",
    "              [1, 2, 2, 2, 2],\n",
    "              [2, 2, 2, 2, 1],\n",
    "              [2, 2, 2, 1, 2],\n",
    "              [2, 2, 2, 2, 2],\n",
    "              [2, 2, 2, 2, 2],\n",
    "              [2, 2, 2, 2, 2],])\n",
    "\n",
    "b = np.array([[0], \n",
    "              [0], \n",
    "              [0], \n",
    "              [1], \n",
    "              [1], \n",
    "              [1], \n",
    "              [2], \n",
    "              [2], \n",
    "              [2], \n",
    "              [3], \n",
    "              [3], \n",
    "              [3], \n",
    "              [4],\n",
    "              [4], \n",
    "              [4], \n",
    "              [5], \n",
    "              [5], \n",
    "              [5]])"
   ]
  },
  {
   "cell_type": "code",
   "execution_count": 3,
   "metadata": {},
   "outputs": [],
   "source": [
    "# least squares - bush\n",
    "\n"
   ]
  },
  {
   "cell_type": "code",
   "execution_count": 4,
   "metadata": {},
   "outputs": [],
   "source": [
    "# svm - pletta\n",
    "\n"
   ]
  },
  {
   "cell_type": "code",
   "execution_count": null,
   "metadata": {},
   "outputs": [],
   "source": []
  }
 ],
 "metadata": {
  "kernelspec": {
   "display_name": "Python 3",
   "language": "python",
   "name": "python3"
  },
  "language_info": {
   "codemirror_mode": {
    "name": "ipython",
    "version": 3
   },
   "file_extension": ".py",
   "mimetype": "text/x-python",
   "name": "python",
   "nbconvert_exporter": "python",
   "pygments_lexer": "ipython3",
   "version": "3.7.4"
  }
 },
 "nbformat": 4,
 "nbformat_minor": 2
}
