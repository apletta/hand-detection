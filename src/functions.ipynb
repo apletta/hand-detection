{
 "cells": [
  {
   "cell_type": "code",
   "execution_count": 5,
   "metadata": {},
   "outputs": [],
   "source": [
    "import numpy as np\n",
    "import json"
   ]
  },
  {
   "cell_type": "code",
   "execution_count": 2,
   "metadata": {},
   "outputs": [],
   "source": [
    "# parse json file to features - phillip\n",
    "data_file_name = '../data/data.json'\n",
    "nPoints = 21\n",
    "with open(data_file_name) as json_file:\n",
    "    data = json.load(json_file)\n",
    "    \n",
    "    # matrix to store distance to keypoint 0, each image stored in row\n",
    "    # column array to store labels\n",
    "    distance_feature = np.ndarray((int(data[\"num_pics\"]), nPoints-1))\n",
    "    label_vector = np.ndarray((int(data[\"num_pics\"]),1))\n",
    "    \n",
    "    # loop through json to constuct feature array\n",
    "    for i in range(1, int(data[\"num_pics\"])+1):\n",
    "        label = data[\"pics\"][str(i)][\"label\"] \n",
    "        points = np.array(data[\"pics\"][str(i)][\"keypoints\"] )\n",
    "        # label array\n",
    "        label_vector[i-1] = label\n",
    "        # feature matrix\n",
    "        pointZero = points[0]\n",
    "        for j in range(1,nPoints):\n",
    "            distance_feature[i-1][j-1] = np.sum(np.square(points[j] - pointZero))\n",
    "            \n",
    "    print(distance_feature)\n",
    "    print(label_vector)"
   ]
  },
  {
   "cell_type": "code",
   "execution_count": 11,
   "metadata": {},
   "outputs": [],
   "source": [
    "# dummy data\n",
    "# layout: [thumb, pointer, middle, ring, pinky]\n",
    "X = np.array([[1, 1, 1, 1, 1],\n",
    "              [1, 1, 1, 1, 1],\n",
    "              [1, 1, 1, 1, 1],\n",
    "              [2, 1, 1, 1, 1],\n",
    "              [1, 2, 1, 1, 1],\n",
    "              [1, 1, 1, 1, 2],\n",
    "              [1, 2, 2, 1, 1],\n",
    "              [2, 1, 1, 1, 2],\n",
    "              [1, 2, 1, 1, 2],\n",
    "              [1, 2, 2, 2, 1],\n",
    "              [2, 2, 1, 1, 2],\n",
    "              [1, 2, 1, 2, 2],\n",
    "              [1, 2, 2, 2, 2],\n",
    "              [2, 2, 2, 2, 1],\n",
    "              [2, 2, 2, 1, 2],\n",
    "              [2, 2, 2, 2, 2],\n",
    "              [2, 2, 2, 2, 2],\n",
    "              [2, 2, 2, 2, 2],])\n",
    "\n",
    "b = np.array([[0], \n",
    "              [0], \n",
    "              [0], \n",
    "              [1], \n",
    "              [1], \n",
    "              [1], \n",
    "              [2], \n",
    "              [2], \n",
    "              [2], \n",
    "              [3], \n",
    "              [3], \n",
    "              [3], \n",
    "              [4],\n",
    "              [4], \n",
    "              [4], \n",
    "              [5], \n",
    "              [5], \n",
    "              [5]])"
   ]
  },
  {
   "cell_type": "code",
   "execution_count": 3,
   "metadata": {},
   "outputs": [],
   "source": [
    "# least squares - bush\n",
    "\n"
   ]
  },
  {
   "cell_type": "code",
   "execution_count": 4,
   "metadata": {},
   "outputs": [],
   "source": [
    "# svm - pletta\n",
    "\n"
   ]
  },
  {
   "cell_type": "code",
   "execution_count": null,
   "metadata": {},
   "outputs": [],
   "source": []
  }
 ],
 "metadata": {
  "kernelspec": {
   "display_name": "Python 3",
   "language": "python",
   "name": "python3"
  },
  "language_info": {
   "codemirror_mode": {
    "name": "ipython",
    "version": 3
   },
   "file_extension": ".py",
   "mimetype": "text/x-python",
   "name": "python",
   "nbconvert_exporter": "python",
   "pygments_lexer": "ipython3",
   "version": "3.7.4"
  }
 },
 "nbformat": 4,
 "nbformat_minor": 2
}