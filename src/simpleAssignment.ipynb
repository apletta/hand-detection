{
 "cells": [
  {
   "cell_type": "code",
   "execution_count": 1,
   "metadata": {},
   "outputs": [],
   "source": [
    "import numpy as np\n",
    "import json\n",
    "import matplotlib.pyplot as plt\n",
    "import math"
   ]
  },
  {
   "cell_type": "code",
   "execution_count": 2,
   "metadata": {},
   "outputs": [],
   "source": [
    "# Helper function for printing tables\n",
    "def printTable(header, data):\n",
    "    \"\"\"\n",
    "    Prints table with columns of header and data.\n",
    "    \n",
    "    Parameters\n",
    "    ----------\n",
    "    header : []\n",
    "        list of header labels\n",
    "        ex. header = [\"one\",\"two\",\"three\"]\n",
    "    data : [[],[],...,[]]\n",
    "        list of lists, each inner list is a data line\n",
    "        data line must index with header appropriately\n",
    "        ex. data = [[1, 2, 3],[1, 2, 3]]\n",
    "    \"\"\"\n",
    "    \n",
    "    # print headers\n",
    "    col_widths=[]\n",
    "    for i,label in enumerate(header):\n",
    "        col_widths.append(len(label))\n",
    "        if i == 0 :\n",
    "            print(\"| \",end=\"\")\n",
    "        print(str(label).center(len(label)), end=\" | \")\n",
    "    print()\n",
    "    \n",
    "    # print separating line\n",
    "    for i,width in enumerate(col_widths):\n",
    "        if i == 0 :\n",
    "            print(\"| \",end=\"\")\n",
    "        print(\"\".center(width,\"-\"), end=\" | \")\n",
    "    print()\n",
    "    \n",
    "    # print data\n",
    "    for i,line in enumerate(data):\n",
    "        for i,value in enumerate(line):\n",
    "            if i == 0 :\n",
    "                print(\"| \",end=\"\")\n",
    "            print(str(value).center(col_widths[i]), end=\" | \")\n",
    "        print()"
   ]
  },
  {
   "cell_type": "code",
   "execution_count": 11,
   "metadata": {},
   "outputs": [
    {
     "data": {
      "image/png": "[encoded data removed]",
      "text/plain": [
       "<Figure size 432x288 with 1 Axes>"
      ]
     },
     "metadata": {
      "needs_background": "light"
     },
     "output_type": "display_data"
    }
   ],
   "source": [
    "colors = ['r', 'g', 'b']\n",
    "\n",
    "# Define three cluster centers\n",
    "centers = [[4, 1],\n",
    "           [1, 7],\n",
    "           [5, 6]]\n",
    "\n",
    "# Define three cluster sigmas in x and y, respectively\n",
    "sigmas = [[0.8, 0.5],\n",
    "          [0.5, 1.1],\n",
    "          [0.7, 0.7]]\n",
    "\n",
    "# seeded for reproducibility\n",
    "np.random.seed(2)  \n",
    "\n",
    "# Initial varables\n",
    "xpts = np.zeros(1)\n",
    "ypts = np.zeros(1)\n",
    "labels = np.zeros(1)\n",
    "\n",
    "# Zip object is an iterator of tuples, enumerate returns centers: sigmas pair\n",
    "# Total of 200 sample points, in 3 clusters\n",
    "for i, ((x_center, y_center), (x_sigma, y_sigma)) in enumerate(zip(centers, sigmas)):\n",
    "    # Create row array x or y value of each point\n",
    "    xpts = np.hstack((xpts, np.random.standard_normal(200) * x_sigma + x_center))\n",
    "    ypts = np.hstack((ypts, np.random.standard_normal(200) * y_sigma + y_center))\n",
    "    labels = np.hstack((labels, np.ones(200) * i))\n",
    "\n",
    "\n",
    "# Remove the extra 0 at front \n",
    "xpts = np.delete(xpts,0)\n",
    "ypts = np.delete(ypts,0)\n",
    "labels = np.delete(labels,0)\n",
    "\n",
    "# Visualize the test data\n",
    "for j in range(3):\n",
    "    plt.plot(xpts[j == labels],ypts[j==labels],'.', color = colors[j], label = 'Class %s'%j)\n",
    "\n",
    "plt.xlabel('x')\n",
    "plt.ylabel('y')\n",
    "plt.title('Sample 2 feature input with 3 classes')\n",
    "plt.legend(loc='lower left')\n",
    "plt.show()\n",
    "xy = np.vstack((xpts,ypts))"
   ]
  },
  {
   "cell_type": "code",
   "execution_count": null,
   "metadata": {},
   "outputs": [],
   "source": [
    "ass = np.zeros(1)\n",
    "ass = np.hstack((ass,1))\n",
    "print(ass)"
   ]
  },
  {
   "cell_type": "code",
   "execution_count": null,
   "metadata": {},
   "outputs": [],
   "source": [
    "## Single Class SVM"
   ]
  },
  {
   "cell_type": "code",
   "execution_count": null,
   "metadata": {},
   "outputs": [],
   "source": []
  },
  {
   "cell_type": "code",
   "execution_count": null,
   "metadata": {
    "scrolled": false
   },
   "outputs": [],
   "source": [
    "# Prep simple data in format of hand features\n",
    "X = xy.transpose()\n",
    "b = labels.transpose()\n",
    "\n",
    "# model parameters\n",
    "num_samples = len(b)\n",
    "X_svm = np.hstack((X, np.ones((num_samples, 1))))\n",
    "num_features = len(X[0])\n",
    "w_k = np.zeros((num_features+1, 1))\n",
    "\n",
    "r = 0 # regularizer (aka lambda)\n",
    "U, s, V = np.linalg.svd(X_svm)\n",
    "tau = 1/s[0]**2 # max stepsize\n",
    "\n",
    "# loop through each class\n",
    "classes = [0,1,2]\n",
    "b_classes = np.zeros((len(b),len(classes)))\n",
    "b_test_svm = np.zeros(b_classes.shape)\n",
    "b_test_ls = np.zeros(b_classes.shape)\n",
    "w_svm = np.zeros((len(w_k),len(classes)))\n",
    "w_ls = np.zeros((len(w_k),len(classes)))\n",
    "\n",
    "for c in classes:\n",
    "    # form binary labels\n",
    "    b_svm = np.where(b == c, 1, -1)\n",
    "    b_classes[:,c] = b_svm.reshape(len(b_svm))\n",
    "    \n",
    "    # train svm\n",
    "    num_steps = 10\n",
    "    counter = 0\n",
    "    counter2 = 0\n",
    "    for i in range(num_steps):\n",
    "        # loop through training samples\n",
    "        l_hinge = np.zeros(w_k.shape)\n",
    "        for s in range(num_samples):\n",
    "            # indicator function\n",
    "            counter2 +=1\n",
    "            if b_svm[s]*X_svm[s]@w_k <= 1:\n",
    "                counter +=1\n",
    "                l_hinge = np.add(l_hinge, -b_svm[s]*X_svm[s].reshape(l_hinge.shape))\n",
    "        w_k = w_k - tau*(l_hinge+2*r*w_k)\n",
    "        \n",
    "    # save weights\n",
    "    w_svm[:,c] = w_k.reshape(len(w_k)) # svm\n",
    "    w_k_ls = np.linalg.inv(X_svm.T@X_svm)@X_svm.T@b_svm # least squares\n",
    "    w_ls[:,c] = w_k_ls.reshape(len(w_k_ls))\n",
    "#     print(\"Weights for class {}:\".format(c))\n",
    "#     print(w_k)\n",
    "\n",
    "# test svm against known training data\n",
    "header = [\"class\", \"  svm  \", \"least squares\"]\n",
    "data = []\n",
    "for c in classes:\n",
    "    b_hat_svm = X_svm@w_svm[:,c]\n",
    "    b_hat_ls = X_svm@w_ls[:,c]\n",
    "    b_test_svm[:,c] = b_hat_svm.reshape(len(b))\n",
    "    b_test_ls[:,c] = b_hat_ls.reshape(len(b))\n",
    "\n",
    "    # find percent incorrect\n",
    "    num_incorrect_ls = np.sum(np.sign(b_test_ls[:,c]) != b_classes[:,c])\n",
    "    percent_incorrect_ls = num_incorrect_ls/len(b)*100\n",
    "    num_incorrect_svm = np.sum(np.sign(b_test_svm[:,c]) != b_classes[:,c])\n",
    "    percent_incorrect_svm = num_incorrect_svm/len(b)*100\n",
    "    data.append([c,\"{:0.2f} %\".format(percent_incorrect_svm), \"{:0.2f} %\".format(percent_incorrect_ls)])\n",
    "\n",
    "# print table\n",
    "printTable(header,data)"
   ]
  },
  {
   "cell_type": "code",
   "execution_count": null,
   "metadata": {},
   "outputs": [],
   "source": [
    "# plot\n",
    "fig,ax = plt.subplots(3,2)\n",
    "plt.rcParams['figure.figsize'] = [20, 10] # matplotlib window size = [width, height]\n",
    "\n",
    "for c in classes:\n",
    "    if c < 3:\n",
    "        count2 = 0\n",
    "    else:\n",
    "        count2 = 1\n",
    "    ax[c%3][count2].set_title(\"Class {}\".format(c),fontsize=15)\n",
    "    ax[c%3][count2].scatter(range(len(b_classes[:,c])), b_classes[:,c], label=\"true\", color=\"C0\", s=15)\n",
    "    ax[c%3][count2].plot(range(len(b_classes[:,c])), b_classes[:,c], alpha=0.5, color=\"C0\")\n",
    "    ax[c%3][count2].scatter(range(len(b_classes[:,c])), b_test_svm[:,c], label=\"svm estimate\", color=\"C1\", s=15)\n",
    "    ax[c%3][count2].plot(range(len(b_classes[:,c])), b_test_svm[:,c], alpha=0.5, color=\"C1\")\n",
    "    ax[c%3][count2].scatter(range(len(b_classes[:,c])), b_test_ls[:,c], label=\"ls estimate\", color=\"C2\", s=15)\n",
    "    ax[c%3][count2].plot(range(len(b_classes[:,c])), b_test_ls[:,c], alpha=0.5, color=\"C2\")\n",
    "    ax[c%3][count2].plot([0,len(b_classes[:,c])], [0,0], alpha=0.5, linestyle=\"--\", color=\"k\", label=\"zero\")\n",
    "\n",
    "ax[0][1].legend(bbox_to_anchor=(0.4, 1.3), loc='right', ncol=1,fontsize=12) # legend\n",
    "title = fig.suptitle(\"One vs. All with SVM, LS\",fontsize=20) # title\n",
    "fig.tight_layout() # prevent overlapping\n",
    "plt.show()"
   ]
  },
  {
   "cell_type": "code",
   "execution_count": null,
   "metadata": {},
   "outputs": [],
   "source": []
  },
  {
   "cell_type": "code",
   "execution_count": null,
   "metadata": {},
   "outputs": [],
   "source": []
  }
 ],
 "metadata": {
  "kernelspec": {
   "display_name": "Python 3",
   "language": "python",
   "name": "python3"
  },
  "language_info": {
   "codemirror_mode": {
    "name": "ipython",
    "version": 3
   },
   "file_extension": ".py",
   "mimetype": "text/x-python",
   "name": "python",
   "nbconvert_exporter": "python",
   "pygments_lexer": "ipython3",
   "version": "3.7.7"
  }
 },
 "nbformat": 4,
 "nbformat_minor": 2
}
