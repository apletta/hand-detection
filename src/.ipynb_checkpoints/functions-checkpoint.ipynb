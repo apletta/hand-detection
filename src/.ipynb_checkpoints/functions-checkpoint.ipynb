{
 "cells": [
  {
   "cell_type": "code",
   "execution_count": 2,
   "metadata": {},
   "outputs": [],
   "source": [
    "import numpy as np\n",
    "import json\n",
    "import matplotlib.pyplot as plt"
   ]
  },
  {
   "cell_type": "code",
   "execution_count": 3,
   "metadata": {},
   "outputs": [
    {
     "name": "stdout",
     "output_type": "stream",
     "text": [
      "[[  8293.  37890.  79092. 129232.  54045. 109850. 172481. 225997.  41434.\n",
      "  119297. 179890. 251962.  42170. 109793. 167858. 223109.  41585.  90842.\n",
      "  120341. 181274.]\n",
      " [  3140.  17485.  28493.  35600.  54045. 113345. 149921. 204112.  42577.\n",
      "  108241. 153920. 221924.  35722.  63290.  35977.  29930.  33553.  45585.\n",
      "   26953.  13345.]\n",
      " [  4868.  17905.  25810.  24874.  38233.  74825. 117450. 153305.  31793.\n",
      "   83368. 124265. 171733.  24874.  71290. 108242. 152882.  20905.  51930.\n",
      "   79592. 106994.]\n",
      " [  1156.   4325.   7045.  16586.   7265.  11045.   9860.  12905.  12356.\n",
      "   16132.  19882.  16586.  15876.  24649.  24649.  24649.  20842.  36305.\n",
      "   56186.  71717.]\n",
      " [  7108.  28305.  63837.  94874.  36013.  83170. 123866. 160976.  36305.\n",
      "   89765. 131282. 179953.  35600.  80485. 109265. 144338.  28618.  57236.\n",
      "   74882.  95714.]]\n",
      "[[5.]\n",
      " [2.]\n",
      " [4.]\n",
      " [1.]\n",
      " [5.]]\n"
     ]
    }
   ],
   "source": [
    "# parse json file to features - phillip\n",
    "data_file_name = '../data/data.json'\n",
    "nPoints = 21\n",
    "with open(data_file_name) as json_file:\n",
    "    data = json.load(json_file)\n",
    "    \n",
    "    # matrix to store distance to keypoint 0, each image stored in row\n",
    "    # column array to store labels\n",
    "    distance_feature = np.ndarray((int(data[\"num_pics\"]), nPoints-1))\n",
    "    label_vector = np.ndarray((int(data[\"num_pics\"]),1))\n",
    "    \n",
    "    # loop through json to constuct feature array\n",
    "    for i in range(1, int(data[\"num_pics\"])+1):\n",
    "        label = data[\"pics\"][str(i)][\"label\"] \n",
    "        points = np.array(data[\"pics\"][str(i)][\"keypoints\"] )\n",
    "        # label array\n",
    "        label_vector[i-1] = label\n",
    "        # feature matrix\n",
    "        pointZero = points[0]\n",
    "        for j in range(1,nPoints):\n",
    "            distance_feature[i-1][j-1] = np.sum(np.square(points[j] - pointZero))\n",
    "            \n",
    "    print(distance_feature)\n",
    "    print(label_vector)"
   ]
  },
  {
   "cell_type": "code",
   "execution_count": 4,
   "metadata": {},
   "outputs": [],
   "source": [
    "# dummy data\n",
    "# layout: [thumb, pointer, middle, ring, pinky]\n",
    "X = np.array([[1, 1, 1, 1, 1],\n",
    "              [1, 1, 1, 1, 1],\n",
    "              [1, 1, 1, 1, 1],\n",
    "              [2, 1, 1, 1, 1],\n",
    "              [1, 2, 1, 1, 1],\n",
    "              [1, 1, 1, 1, 2],\n",
    "              [1, 2, 2, 1, 1],\n",
    "              [2, 1, 1, 1, 2],\n",
    "              [1, 2, 1, 1, 2],\n",
    "              [1, 2, 2, 2, 1],\n",
    "              [2, 2, 1, 1, 2],\n",
    "              [1, 2, 1, 2, 2],\n",
    "              [1, 2, 2, 2, 2],\n",
    "              [2, 2, 2, 2, 1],\n",
    "              [2, 2, 2, 1, 2],\n",
    "              [2, 2, 2, 2, 2],\n",
    "              [2, 2, 2, 2, 2],\n",
    "              [2, 2, 2, 2, 2],])\n",
    "\n",
    "b = np.array([[0], \n",
    "              [0], \n",
    "              [0], \n",
    "              [1], \n",
    "              [1], \n",
    "              [1], \n",
    "              [2], \n",
    "              [2], \n",
    "              [2], \n",
    "              [3], \n",
    "              [3], \n",
    "              [3], \n",
    "              [4],\n",
    "              [4], \n",
    "              [4], \n",
    "              [5], \n",
    "              [5], \n",
    "              [5]])"
   ]
  },
  {
   "cell_type": "code",
   "execution_count": 5,
   "metadata": {},
   "outputs": [],
   "source": [
    "# least squares - bush\n",
    "\n"
   ]
  },
  {
   "cell_type": "code",
   "execution_count": 41,
   "metadata": {
    "scrolled": false
   },
   "outputs": [],
   "source": [
    "# svm - pletta\n",
    "\n"
   ]
  },
  {
   "cell_type": "code",
   "execution_count": null,
   "metadata": {},
   "outputs": [],
   "source": []
  }
 ],
 "metadata": {
  "kernelspec": {
   "display_name": "Python 3",
   "language": "python3",
   "name": "python3"
  },
  "language_info": {
   "codemirror_mode": {
    "name": "ipython",
    "version": 3
   },
   "file_extension": ".py",
   "mimetype": "text/x-python",
   "name": "python",
   "nbconvert_exporter": "python",
   "pygments_lexer": "ipython3",
   "version": "3.7.4"
  }
 },
 "nbformat": 4,
 "nbformat_minor": 2
}
