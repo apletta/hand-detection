{
 "cells": [
  {
   "cell_type": "code",
   "execution_count": 2,
   "metadata": {},
   "outputs": [],
   "source": [
    "import numpy as np\n",
    "import matplotlib.pyplot as plt"
   ]
  },
  {
   "cell_type": "markdown",
   "metadata": {},
   "source": [
    "# 1D Example"
   ]
  },
  {
   "cell_type": "code",
   "execution_count": 3,
   "metadata": {},
   "outputs": [
    {
     "data": {
      "image/png": "[encoded data removed]",
      "text/plain": [
       "<Figure size 432x288 with 1 Axes>"
      ]
     },
     "metadata": {
      "needs_background": "light"
     },
     "output_type": "display_data"
    }
   ],
   "source": [
    "# toy data\n",
    "X = np.array([[1],\n",
    "              [2],\n",
    "              [3],\n",
    "              [4]])\n",
    "\n",
    "b = np.array([[1],\n",
    "              [1],\n",
    "              [-1],\n",
    "              [-1]])\n",
    "\n",
    "x_range = np.ones((2,1))\n",
    "plt.scatter(X[:2], x_range, color=\"red\", label=\"y=+1\")\n",
    "plt.scatter(X[2:], x_range, color=\"blue\", label=\"y=-1\")\n",
    "\n",
    "plt.legend()\n",
    "plt.show()"
   ]
  },
  {
   "cell_type": "code",
   "execution_count": 6,
   "metadata": {},
   "outputs": [
    {
     "name": "stdout",
     "output_type": "stream",
     "text": [
      "[[-2.03585381]\n",
      " [ 5.08963453]]\n"
     ]
    }
   ],
   "source": [
    "# model parameters\n",
    "num_features = len(X[0])\n",
    "num_samples = len(b)\n",
    "w_k = np.zeros((num_features+1, 1))\n",
    "X_svm = np.hstack((X, np.ones((num_samples, 1))))\n",
    "\n",
    "r = 0 # regularizer (aka lambda)\n",
    "U, s, V = np.linalg.svd(X_svm)\n",
    "tau = 1/s[0]**2 # max stepsize\n",
    "\n",
    "# form binary labels\n",
    "train_class = 1\n",
    "b_svm = np.where(b == train_class, 1, -1)\n",
    "\n",
    "\n",
    "# train svm\n",
    "num_steps = 1000\n",
    "for i in range(num_steps):\n",
    "    # loop through training samples\n",
    "    l_hinge = np.zeros(w_k.shape)\n",
    "    for s in range(num_samples):\n",
    "        # indicator function\n",
    "        if b_svm[s]*X_svm[s]@w_k < 1:\n",
    "            l_hinge = np.add(l_hinge, -b_svm[s]*X_svm[s].reshape(l_hinge.shape))\n",
    "\n",
    "    w_k = w_k - tau*(l_hinge + 2*r*w_k)\n",
    "print(w_k)"
   ]
  },
  {
   "cell_type": "code",
   "execution_count": 7,
   "metadata": {},
   "outputs": [
    {
     "data": {
      "image/png": "[encoded data removed]",
      "text/plain": [
       "<Figure size 432x288 with 1 Axes>"
      ]
     },
     "metadata": {
      "needs_background": "light"
     },
     "output_type": "display_data"
    }
   ],
   "source": [
    "def svm_contour(w, c):\n",
    "    x_plot = (c-w[1])/w[0]\n",
    "    return x_plot\n",
    "\n",
    "db = svm_contour(w_k, 0)\n",
    "db_pos1 = svm_contour(w_k, 1)\n",
    "db_neg1 = svm_contour(w_k, -1)\n",
    "\n",
    "x_range = np.ones((2,1))\n",
    "plt.scatter(X[:2], x_range, color=\"red\", label=\"y=+1\")\n",
    "plt.scatter(X[2:], x_range, color=\"blue\", label=\"y=-1\")\n",
    "\n",
    "space = 2\n",
    "db_range = np.linspace(db,db,num=space)\n",
    "db_range_pos1 = np.linspace(db_pos1,db_pos1,num=space)\n",
    "db_range_neg1 = np.linspace(db_neg1,db_neg1,num=space)\n",
    "x_range = np.linspace(0,2,num=space)\n",
    "plt.plot(db_range,x_range, color=\"green\", label=\"decision boundary\")\n",
    "plt.plot(db_range_pos1,x_range, color=\"green\", linestyle=\"--\", label=\"support vector\")\n",
    "plt.plot(db_range_neg1,x_range, color=\"green\", linestyle=\"--\")\n",
    "plt.legend()\n",
    "plt.show()"
   ]
  },
  {
   "cell_type": "markdown",
   "metadata": {},
   "source": [
    "# 2D Example"
   ]
  },
  {
   "cell_type": "code",
   "execution_count": 8,
   "metadata": {},
   "outputs": [
    {
     "data": {
      "image/png": "[encoded data removed]",
      "text/plain": [
       "<Figure size 432x288 with 1 Axes>"
      ]
     },
     "metadata": {
      "needs_background": "light"
     },
     "output_type": "display_data"
    }
   ],
   "source": [
    "# toy data\n",
    "X = np.array([[1, 2],\n",
    "              [0, 1],\n",
    "              [1.5, 0],\n",
    "              [1, 3],\n",
    "              [2, 2]])\n",
    "\n",
    "b = np.array([[1],\n",
    "              [1],\n",
    "              [1],\n",
    "              [-1],\n",
    "              [-1]])\n",
    "\n",
    "\n",
    "plt.scatter(X[:3,0], X[:3,1], color=\"red\", label=\"y=+1\")\n",
    "plt.scatter(X[3:,0], X[3:,1], color=\"blue\", label=\"y=-1\")\n",
    "\n",
    "plt.legend()\n",
    "plt.show()"
   ]
  },
  {
   "cell_type": "code",
   "execution_count": 22,
   "metadata": {},
   "outputs": [
    {
     "name": "stdout",
     "output_type": "stream",
     "text": [
      "[[-0.025]\n",
      " [-0.1  ]\n",
      " [ 0.05 ]]\n"
     ]
    }
   ],
   "source": [
    "# compare against sklearn - can test different kernels\n",
    "\n",
    "\n",
    "# model parameters\n",
    "num_samples = len(b)\n",
    "X_svm = np.hstack((X, np.ones((num_samples, 1))))\n",
    "num_features = len(X[0])\n",
    "w_k = np.zeros((num_features+1, 1))\n",
    "\n",
    "r = 10 # regularizer (aka lambda)\n",
    "U, s, V = np.linalg.svd(X_svm)\n",
    "tau = 1/s[0]**2 # max stepsize\n",
    "\n",
    "# form binary labels\n",
    "train_class = 1\n",
    "b_svm = np.where(b == train_class, 1, -1)\n",
    "\n",
    "# train svm\n",
    "num_steps = 1000\n",
    "for i in range(num_steps):\n",
    "    # loop through training samples\n",
    "    l_hinge = np.zeros(w_k.shape)\n",
    "    for s in range(num_samples):\n",
    "        # indicator function\n",
    "        if b_svm[s]*X_svm[s]@w_k < 1:\n",
    "            l_hinge = np.add(l_hinge, -b_svm[s]*X_svm[s].reshape(l_hinge.shape))\n",
    "    w_k = w_k - tau*(l_hinge+2*r*w_k)\n",
    "print(w_k)"
   ]
  },
  {
   "cell_type": "code",
   "execution_count": 23,
   "metadata": {},
   "outputs": [
    {
     "data": {
      "image/png": "[encoded data removed]",
      "text/plain": [
       "<Figure size 432x288 with 1 Axes>"
      ]
     },
     "metadata": {
      "needs_background": "light"
     },
     "output_type": "display_data"
    }
   ],
   "source": [
    "def svm_contour(x, w, c):\n",
    "    x_plot = (c-x*w[0]-w[2])/w[1]\n",
    "    return x_plot\n",
    "\n",
    "plot_bounds = [0.5, 2.5]\n",
    "db = [svm_contour(plot_bounds[0], w_k, 0), svm_contour(plot_bounds[1], w_k, 0)] \n",
    "db_pos1 = [svm_contour(plot_bounds[0], w_k, 1), svm_contour(plot_bounds[1], w_k, 1)] \n",
    "db_neg1 = [svm_contour(plot_bounds[0], w_k, -1), svm_contour(plot_bounds[1], w_k, -1)] \n",
    "\n",
    "plt.scatter(X[:3,0], X[:3,1], color=\"red\", label=\"y=+1\")\n",
    "plt.scatter(X[3:,0], X[3:,1], color=\"blue\", label=\"y=-1\")\n",
    "\n",
    "space = 2\n",
    "plt.plot(plot_bounds,db, color=\"green\", label=\"decision boundary\")\n",
    "plt.plot(plot_bounds,db_pos1, color=\"green\", linestyle=\"--\", label=\"support vector\")\n",
    "plt.plot(plot_bounds,db_neg1, color=\"green\", linestyle=\"--\")\n",
    "plt.legend()\n",
    "plt.show()"
   ]
  },
  {
   "cell_type": "code",
   "execution_count": null,
   "metadata": {},
   "outputs": [],
   "source": []
  },
  {
   "cell_type": "code",
   "execution_count": null,
   "metadata": {},
   "outputs": [],
   "source": []
  }
 ],
 "metadata": {
  "kernelspec": {
   "display_name": "Python 3",
   "language": "python3",
   "name": "python3"
  },
  "language_info": {
   "codemirror_mode": {
    "name": "ipython",
    "version": 3
   },
   "file_extension": ".py",
   "mimetype": "text/x-python",
   "name": "python",
   "nbconvert_exporter": "python",
   "pygments_lexer": "ipython3",
   "version": "3.7.4"
  }
 },
 "nbformat": 4,
 "nbformat_minor": 2
}